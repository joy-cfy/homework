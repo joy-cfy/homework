{
 "cells": [
  {
   "cell_type": "code",
   "execution_count": 46,
   "id": "cc353e42",
   "metadata": {},
   "outputs": [
    {
     "name": "stdout",
     "output_type": "stream",
     "text": [
      "hello world\n"
     ]
    }
   ],
   "source": [
    "print(\"hello world\")"
   ]
  },
  {
   "cell_type": "code",
   "execution_count": 47,
   "id": "72893143",
   "metadata": {},
   "outputs": [
    {
     "name": "stdout",
     "output_type": "stream",
     "text": [
      "{'1': '瑜伽', '2': '瑜伽', '8': 'H5', '9': 'H5', '12': '大英', '13': '大英'}\n"
     ]
    }
   ],
   "source": [
    "tuesday_lesson = {\"1\" : \"瑜伽\", \"2\" : \"瑜伽\", \"8\" : \"H5\",\"9\" : \"H5\",\"12\" : \"大英\",\"13\" : \"大英\"}\n",
    "print(tuesday_lesson)"
   ]
  },
  {
   "cell_type": "code",
   "execution_count": 48,
   "id": "08f1d392",
   "metadata": {},
   "outputs": [
    {
     "name": "stdout",
     "output_type": "stream",
     "text": [
      "{'1': '毛概实践', '2': '毛概实践', '12': '创业基础（实践）', '13': '创业基础（实践）'}\n"
     ]
    }
   ],
   "source": [
    "wenesday_lesson = {\"1\"  :  \"毛概实践\",\"2\" :  \"毛概实践\",\"12\"  : \"创业基础（实践）\",\"13\"  : \"创业基础（实践）\"}\n",
    "print(wenesday_lesson)"
   ]
  },
  {
   "cell_type": "code",
   "execution_count": 49,
   "id": "84974bc6",
   "metadata": {},
   "outputs": [
    {
     "name": "stdout",
     "output_type": "stream",
     "text": [
      "{'3': 'python', '4': 'python', '5': 'python', '8': '大英', '9': '大英', '12': '毛概', '13': '毛概', '14': '毛概'}\n"
     ]
    }
   ],
   "source": [
    "thursday_lesson = {\"3\": \"python\",\"4\": \"python\",\"5\": \"python\",\"8\": \"大英\",\"9\": \"大英\",\"12\": \"毛概\",\"13\": \"毛概\",\"14\": \"毛概\"}\n",
    "print(thursday_lesson)"
   ]
  },
  {
   "cell_type": "code",
   "execution_count": 50,
   "id": "4f53527f",
   "metadata": {},
   "outputs": [
    {
     "name": "stdout",
     "output_type": "stream",
     "text": [
      "{'4': 'AI', '5': 'AI', '8': '手绘基础', '9': '手绘基础'}\n"
     ]
    }
   ],
   "source": [
    "friday_lesson = {\"4\" : \"AI\",\"5\" : \"AI\",\"8\" : \"手绘基础\",\"9\" : \"手绘基础\"}\n",
    "print(friday_lesson)"
   ]
  },
  {
   "cell_type": "code",
   "execution_count": 51,
   "id": "187eed40",
   "metadata": {},
   "outputs": [
    {
     "name": "stdout",
     "output_type": "stream",
     "text": [
      "{'1': '08:00', '2': '08:50', '3': '09:45', '4': '10:35', '5': '11:20', '8': '14:30', '9': '15:15', '12': '18:45', '13': '19:30', '14': '20:15'}\n"
     ]
    }
   ],
   "source": [
    "time_dic = {\"1\":\"08:00\", \"2\":\"08:50\",\"3\":\"09:45\",\"4\":\"10:35\",\n",
    "            \"5\":\"11:20\", \"8\":\"14:30\", \"9\":\"15:15\", \n",
    "            \"12\":\"18:45\", \"13\":\"19:30\", \"14\":\"20:15\"}\n",
    "print(time_dic)"
   ]
  },
  {
   "cell_type": "code",
   "execution_count": 52,
   "id": "598e3fe8",
   "metadata": {},
   "outputs": [
    {
     "name": "stdout",
     "output_type": "stream",
     "text": [
      "{'1': '07:20', '2': '08:10', '3': '09:05', '4': '10:-5', '5': '11:-20', '8': '14:-10', '9': '14:20', '12': '18:05', '13': '19:-10', '14': '19:20'}\n"
     ]
    }
   ],
   "source": [
    "notice_time = {}\n",
    "for k, v in time_dic.items():\n",
    "    #提前二十分钟提醒\n",
    "    minute = int(v[-2:])\n",
    "    hour = int(v[:2])\n",
    "    if minute - 20 >= 0:\n",
    "        minute -= 20  \n",
    "    else:\n",
    "        minute = 60 -20\n",
    "        hour -= 1\n",
    "    notice_time[k] = \"{:0>2d}:{:0>2d}\".format(hour, minute-20)\n",
    "print(notice_time)\n",
    "        "
   ]
  },
  {
   "cell_type": "code",
   "execution_count": 53,
   "id": "3c77cbec",
   "metadata": {},
   "outputs": [],
   "source": [
    "week_dic = {\"2\":tuesday_lesson, \"3\": wenesday_lesson, \"4\":thursday_lesson, \"5\":friday_lesson}"
   ]
  },
  {
   "cell_type": "code",
   "execution_count": 54,
   "id": "2cebbff7",
   "metadata": {},
   "outputs": [],
   "source": [
    "from  datetime import datetime"
   ]
  },
  {
   "cell_type": "code",
   "execution_count": 65,
   "id": "c5227760",
   "metadata": {},
   "outputs": [],
   "source": [
    "def get_date_time():\n",
    "    now_time = datetime.now()\n",
    "    return now_time"
   ]
  },
  {
   "cell_type": "code",
   "execution_count": 66,
   "id": "edaf0de4",
   "metadata": {},
   "outputs": [],
   "source": [
    "date = get_date_time()\n"
   ]
  },
  {
   "cell_type": "code",
   "execution_count": 67,
   "id": "63d53864",
   "metadata": {},
   "outputs": [],
   "source": [
    " def get_day_week():\n",
    "    now_week = datetime.now().isoweekday()\n",
    "    return now_week"
   ]
  },
  {
   "cell_type": "code",
   "execution_count": null,
   "id": "63550c89",
   "metadata": {},
   "outputs": [
    {
     "name": "stdout",
     "output_type": "stream",
     "text": [
      "当前时间为： 2021-09-11 22:02:10\n",
      "恭喜你，今天没有课\n"
     ]
    }
   ],
   "source": [
    "last_day = None\n",
    "while True:\n",
    "    now_date = get_date_time()\n",
    "    now_week = get_day_week()\n",
    "    if last_day != now_date.day:\n",
    "        str_time = now_time.strftime(\"%Y-%m-%d %X\")\n",
    "        print(\"当前时间为：\", str_time)\n",
    "        if str(now_week) in week_dic:\n",
    "            lesson = week_dic.get(str(now_week))\n",
    "\n",
    "            print(\"今日课程有：\")\n",
    "            for k, v in week_dic.items():\n",
    "                print(v, end=\" \")\n",
    "            print()\n",
    "            last_day = str(now_date.day)\n",
    "\n",
    "            while get_date_time().day == last_day:\n",
    "                for k, v in notice_time.items():   \n",
    "                    if str(now_date.hour) == v[:2] and str(now_date.minute) == v[-2:]:\n",
    "                        print(\"再有二十分钟就要上：{}课啦\".formot(lesson[k]))    \n",
    "        else:\n",
    "            print(\"恭喜你，今天没有课\")\n",
    "        last_day = now_date.day\n",
    "    \n",
    "\n",
    "            \n",
    "        "
   ]
  },
  {
   "cell_type": "code",
   "execution_count": null,
   "id": "50a81e31",
   "metadata": {},
   "outputs": [],
   "source": []
  },
  {
   "cell_type": "code",
   "execution_count": null,
   "id": "bccaa848",
   "metadata": {},
   "outputs": [],
   "source": []
  },
  {
   "cell_type": "code",
   "execution_count": null,
   "id": "800dc029",
   "metadata": {},
   "outputs": [],
   "source": []
  },
  {
   "cell_type": "code",
   "execution_count": null,
   "id": "b39ad73f",
   "metadata": {},
   "outputs": [],
   "source": []
  }
 ],
 "metadata": {
  "kernelspec": {
   "display_name": "Python 3",
   "language": "python",
   "name": "python3"
  },
  "language_info": {
   "codemirror_mode": {
    "name": "ipython",
    "version": 3
   },
   "file_extension": ".py",
   "mimetype": "text/x-python",
   "name": "python",
   "nbconvert_exporter": "python",
   "pygments_lexer": "ipython3",
   "version": "3.8.8"
  }
 },
 "nbformat": 4,
 "nbformat_minor": 5
}
